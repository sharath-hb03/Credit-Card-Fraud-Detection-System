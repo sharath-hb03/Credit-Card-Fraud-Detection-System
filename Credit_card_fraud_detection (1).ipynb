{
  "cells": [
    {
      "cell_type": "code",
      "execution_count": 1,
      "id": "0cf0f88d",
      "metadata": {
        "id": "0cf0f88d"
      },
      "outputs": [],
      "source": [
        "import pandas as pd\n",
        "import numpy as np"
      ]
    },
    {
      "cell_type": "code",
      "execution_count": 3,
      "id": "01f9504f",
      "metadata": {
        "id": "01f9504f"
      },
      "outputs": [],
      "source": [
        "df = pd.read_csv('creditcard.csv')"
      ]
    },
    {
      "cell_type": "code",
      "execution_count": 4,
      "id": "0270de6f",
      "metadata": {
        "scrolled": true,
        "id": "0270de6f",
        "colab": {
          "base_uri": "https://localhost:8080/",
          "height": 255
        },
        "outputId": "0e3b86a0-ba6a-4856-e6fc-9c1d88fda1b8"
      },
      "outputs": [
        {
          "output_type": "execute_result",
          "data": {
            "text/plain": [
              "   Time        V1        V2        V3        V4        V5        V6        V7  \\\n",
              "0     0 -1.359807 -0.072781  2.536347  1.378155 -0.338321  0.462388  0.239599   \n",
              "1     0  1.191857  0.266151  0.166480  0.448154  0.060018 -0.082361 -0.078803   \n",
              "2     1 -1.358354 -1.340163  1.773209  0.379780 -0.503198  1.800499  0.791461   \n",
              "3     1 -0.966272 -0.185226  1.792993 -0.863291 -0.010309  1.247203  0.237609   \n",
              "4     2 -1.158233  0.877737  1.548718  0.403034 -0.407193  0.095921  0.592941   \n",
              "\n",
              "         V8        V9  ...       V21       V22       V23       V24       V25  \\\n",
              "0  0.098698  0.363787  ... -0.018307  0.277838 -0.110474  0.066928  0.128539   \n",
              "1  0.085102 -0.255425  ... -0.225775 -0.638672  0.101288 -0.339846  0.167170   \n",
              "2  0.247676 -1.514654  ...  0.247998  0.771679  0.909412 -0.689281 -0.327642   \n",
              "3  0.377436 -1.387024  ... -0.108300  0.005274 -0.190321 -1.175575  0.647376   \n",
              "4 -0.270533  0.817739  ... -0.009431  0.798278 -0.137458  0.141267 -0.206010   \n",
              "\n",
              "        V26       V27       V28  Amount  Class  \n",
              "0 -0.189115  0.133558 -0.021053  149.62    0.0  \n",
              "1  0.125895 -0.008983  0.014724    2.69    0.0  \n",
              "2 -0.139097 -0.055353 -0.059752  378.66    0.0  \n",
              "3 -0.221929  0.062723  0.061458  123.50    0.0  \n",
              "4  0.502292  0.219422  0.215153   69.99    0.0  \n",
              "\n",
              "[5 rows x 31 columns]"
            ],
            "text/html": [
              "\n",
              "  <div id=\"df-d0c1a7fd-05b1-4c8c-aaca-8ec9e9f849b3\" class=\"colab-df-container\">\n",
              "    <div>\n",
              "<style scoped>\n",
              "    .dataframe tbody tr th:only-of-type {\n",
              "        vertical-align: middle;\n",
              "    }\n",
              "\n",
              "    .dataframe tbody tr th {\n",
              "        vertical-align: top;\n",
              "    }\n",
              "\n",
              "    .dataframe thead th {\n",
              "        text-align: right;\n",
              "    }\n",
              "</style>\n",
              "<table border=\"1\" class=\"dataframe\">\n",
              "  <thead>\n",
              "    <tr style=\"text-align: right;\">\n",
              "      <th></th>\n",
              "      <th>Time</th>\n",
              "      <th>V1</th>\n",
              "      <th>V2</th>\n",
              "      <th>V3</th>\n",
              "      <th>V4</th>\n",
              "      <th>V5</th>\n",
              "      <th>V6</th>\n",
              "      <th>V7</th>\n",
              "      <th>V8</th>\n",
              "      <th>V9</th>\n",
              "      <th>...</th>\n",
              "      <th>V21</th>\n",
              "      <th>V22</th>\n",
              "      <th>V23</th>\n",
              "      <th>V24</th>\n",
              "      <th>V25</th>\n",
              "      <th>V26</th>\n",
              "      <th>V27</th>\n",
              "      <th>V28</th>\n",
              "      <th>Amount</th>\n",
              "      <th>Class</th>\n",
              "    </tr>\n",
              "  </thead>\n",
              "  <tbody>\n",
              "    <tr>\n",
              "      <th>0</th>\n",
              "      <td>0</td>\n",
              "      <td>-1.359807</td>\n",
              "      <td>-0.072781</td>\n",
              "      <td>2.536347</td>\n",
              "      <td>1.378155</td>\n",
              "      <td>-0.338321</td>\n",
              "      <td>0.462388</td>\n",
              "      <td>0.239599</td>\n",
              "      <td>0.098698</td>\n",
              "      <td>0.363787</td>\n",
              "      <td>...</td>\n",
              "      <td>-0.018307</td>\n",
              "      <td>0.277838</td>\n",
              "      <td>-0.110474</td>\n",
              "      <td>0.066928</td>\n",
              "      <td>0.128539</td>\n",
              "      <td>-0.189115</td>\n",
              "      <td>0.133558</td>\n",
              "      <td>-0.021053</td>\n",
              "      <td>149.62</td>\n",
              "      <td>0.0</td>\n",
              "    </tr>\n",
              "    <tr>\n",
              "      <th>1</th>\n",
              "      <td>0</td>\n",
              "      <td>1.191857</td>\n",
              "      <td>0.266151</td>\n",
              "      <td>0.166480</td>\n",
              "      <td>0.448154</td>\n",
              "      <td>0.060018</td>\n",
              "      <td>-0.082361</td>\n",
              "      <td>-0.078803</td>\n",
              "      <td>0.085102</td>\n",
              "      <td>-0.255425</td>\n",
              "      <td>...</td>\n",
              "      <td>-0.225775</td>\n",
              "      <td>-0.638672</td>\n",
              "      <td>0.101288</td>\n",
              "      <td>-0.339846</td>\n",
              "      <td>0.167170</td>\n",
              "      <td>0.125895</td>\n",
              "      <td>-0.008983</td>\n",
              "      <td>0.014724</td>\n",
              "      <td>2.69</td>\n",
              "      <td>0.0</td>\n",
              "    </tr>\n",
              "    <tr>\n",
              "      <th>2</th>\n",
              "      <td>1</td>\n",
              "      <td>-1.358354</td>\n",
              "      <td>-1.340163</td>\n",
              "      <td>1.773209</td>\n",
              "      <td>0.379780</td>\n",
              "      <td>-0.503198</td>\n",
              "      <td>1.800499</td>\n",
              "      <td>0.791461</td>\n",
              "      <td>0.247676</td>\n",
              "      <td>-1.514654</td>\n",
              "      <td>...</td>\n",
              "      <td>0.247998</td>\n",
              "      <td>0.771679</td>\n",
              "      <td>0.909412</td>\n",
              "      <td>-0.689281</td>\n",
              "      <td>-0.327642</td>\n",
              "      <td>-0.139097</td>\n",
              "      <td>-0.055353</td>\n",
              "      <td>-0.059752</td>\n",
              "      <td>378.66</td>\n",
              "      <td>0.0</td>\n",
              "    </tr>\n",
              "    <tr>\n",
              "      <th>3</th>\n",
              "      <td>1</td>\n",
              "      <td>-0.966272</td>\n",
              "      <td>-0.185226</td>\n",
              "      <td>1.792993</td>\n",
              "      <td>-0.863291</td>\n",
              "      <td>-0.010309</td>\n",
              "      <td>1.247203</td>\n",
              "      <td>0.237609</td>\n",
              "      <td>0.377436</td>\n",
              "      <td>-1.387024</td>\n",
              "      <td>...</td>\n",
              "      <td>-0.108300</td>\n",
              "      <td>0.005274</td>\n",
              "      <td>-0.190321</td>\n",
              "      <td>-1.175575</td>\n",
              "      <td>0.647376</td>\n",
              "      <td>-0.221929</td>\n",
              "      <td>0.062723</td>\n",
              "      <td>0.061458</td>\n",
              "      <td>123.50</td>\n",
              "      <td>0.0</td>\n",
              "    </tr>\n",
              "    <tr>\n",
              "      <th>4</th>\n",
              "      <td>2</td>\n",
              "      <td>-1.158233</td>\n",
              "      <td>0.877737</td>\n",
              "      <td>1.548718</td>\n",
              "      <td>0.403034</td>\n",
              "      <td>-0.407193</td>\n",
              "      <td>0.095921</td>\n",
              "      <td>0.592941</td>\n",
              "      <td>-0.270533</td>\n",
              "      <td>0.817739</td>\n",
              "      <td>...</td>\n",
              "      <td>-0.009431</td>\n",
              "      <td>0.798278</td>\n",
              "      <td>-0.137458</td>\n",
              "      <td>0.141267</td>\n",
              "      <td>-0.206010</td>\n",
              "      <td>0.502292</td>\n",
              "      <td>0.219422</td>\n",
              "      <td>0.215153</td>\n",
              "      <td>69.99</td>\n",
              "      <td>0.0</td>\n",
              "    </tr>\n",
              "  </tbody>\n",
              "</table>\n",
              "<p>5 rows × 31 columns</p>\n",
              "</div>\n",
              "    <div class=\"colab-df-buttons\">\n",
              "\n",
              "  <div class=\"colab-df-container\">\n",
              "    <button class=\"colab-df-convert\" onclick=\"convertToInteractive('df-d0c1a7fd-05b1-4c8c-aaca-8ec9e9f849b3')\"\n",
              "            title=\"Convert this dataframe to an interactive table.\"\n",
              "            style=\"display:none;\">\n",
              "\n",
              "  <svg xmlns=\"http://www.w3.org/2000/svg\" height=\"24px\" viewBox=\"0 -960 960 960\">\n",
              "    <path d=\"M120-120v-720h720v720H120Zm60-500h600v-160H180v160Zm220 220h160v-160H400v160Zm0 220h160v-160H400v160ZM180-400h160v-160H180v160Zm440 0h160v-160H620v160ZM180-180h160v-160H180v160Zm440 0h160v-160H620v160Z\"/>\n",
              "  </svg>\n",
              "    </button>\n",
              "\n",
              "  <style>\n",
              "    .colab-df-container {\n",
              "      display:flex;\n",
              "      gap: 12px;\n",
              "    }\n",
              "\n",
              "    .colab-df-convert {\n",
              "      background-color: #E8F0FE;\n",
              "      border: none;\n",
              "      border-radius: 50%;\n",
              "      cursor: pointer;\n",
              "      display: none;\n",
              "      fill: #1967D2;\n",
              "      height: 32px;\n",
              "      padding: 0 0 0 0;\n",
              "      width: 32px;\n",
              "    }\n",
              "\n",
              "    .colab-df-convert:hover {\n",
              "      background-color: #E2EBFA;\n",
              "      box-shadow: 0px 1px 2px rgba(60, 64, 67, 0.3), 0px 1px 3px 1px rgba(60, 64, 67, 0.15);\n",
              "      fill: #174EA6;\n",
              "    }\n",
              "\n",
              "    .colab-df-buttons div {\n",
              "      margin-bottom: 4px;\n",
              "    }\n",
              "\n",
              "    [theme=dark] .colab-df-convert {\n",
              "      background-color: #3B4455;\n",
              "      fill: #D2E3FC;\n",
              "    }\n",
              "\n",
              "    [theme=dark] .colab-df-convert:hover {\n",
              "      background-color: #434B5C;\n",
              "      box-shadow: 0px 1px 3px 1px rgba(0, 0, 0, 0.15);\n",
              "      filter: drop-shadow(0px 1px 2px rgba(0, 0, 0, 0.3));\n",
              "      fill: #FFFFFF;\n",
              "    }\n",
              "  </style>\n",
              "\n",
              "    <script>\n",
              "      const buttonEl =\n",
              "        document.querySelector('#df-d0c1a7fd-05b1-4c8c-aaca-8ec9e9f849b3 button.colab-df-convert');\n",
              "      buttonEl.style.display =\n",
              "        google.colab.kernel.accessAllowed ? 'block' : 'none';\n",
              "\n",
              "      async function convertToInteractive(key) {\n",
              "        const element = document.querySelector('#df-d0c1a7fd-05b1-4c8c-aaca-8ec9e9f849b3');\n",
              "        const dataTable =\n",
              "          await google.colab.kernel.invokeFunction('convertToInteractive',\n",
              "                                                    [key], {});\n",
              "        if (!dataTable) return;\n",
              "\n",
              "        const docLinkHtml = 'Like what you see? Visit the ' +\n",
              "          '<a target=\"_blank\" href=https://colab.research.google.com/notebooks/data_table.ipynb>data table notebook</a>'\n",
              "          + ' to learn more about interactive tables.';\n",
              "        element.innerHTML = '';\n",
              "        dataTable['output_type'] = 'display_data';\n",
              "        await google.colab.output.renderOutput(dataTable, element);\n",
              "        const docLink = document.createElement('div');\n",
              "        docLink.innerHTML = docLinkHtml;\n",
              "        element.appendChild(docLink);\n",
              "      }\n",
              "    </script>\n",
              "  </div>\n",
              "\n",
              "\n",
              "<div id=\"df-f0dac33e-a03c-40a8-9735-f27addc3781a\">\n",
              "  <button class=\"colab-df-quickchart\" onclick=\"quickchart('df-f0dac33e-a03c-40a8-9735-f27addc3781a')\"\n",
              "            title=\"Suggest charts\"\n",
              "            style=\"display:none;\">\n",
              "\n",
              "<svg xmlns=\"http://www.w3.org/2000/svg\" height=\"24px\"viewBox=\"0 0 24 24\"\n",
              "     width=\"24px\">\n",
              "    <g>\n",
              "        <path d=\"M19 3H5c-1.1 0-2 .9-2 2v14c0 1.1.9 2 2 2h14c1.1 0 2-.9 2-2V5c0-1.1-.9-2-2-2zM9 17H7v-7h2v7zm4 0h-2V7h2v10zm4 0h-2v-4h2v4z\"/>\n",
              "    </g>\n",
              "</svg>\n",
              "  </button>\n",
              "\n",
              "<style>\n",
              "  .colab-df-quickchart {\n",
              "      --bg-color: #E8F0FE;\n",
              "      --fill-color: #1967D2;\n",
              "      --hover-bg-color: #E2EBFA;\n",
              "      --hover-fill-color: #174EA6;\n",
              "      --disabled-fill-color: #AAA;\n",
              "      --disabled-bg-color: #DDD;\n",
              "  }\n",
              "\n",
              "  [theme=dark] .colab-df-quickchart {\n",
              "      --bg-color: #3B4455;\n",
              "      --fill-color: #D2E3FC;\n",
              "      --hover-bg-color: #434B5C;\n",
              "      --hover-fill-color: #FFFFFF;\n",
              "      --disabled-bg-color: #3B4455;\n",
              "      --disabled-fill-color: #666;\n",
              "  }\n",
              "\n",
              "  .colab-df-quickchart {\n",
              "    background-color: var(--bg-color);\n",
              "    border: none;\n",
              "    border-radius: 50%;\n",
              "    cursor: pointer;\n",
              "    display: none;\n",
              "    fill: var(--fill-color);\n",
              "    height: 32px;\n",
              "    padding: 0;\n",
              "    width: 32px;\n",
              "  }\n",
              "\n",
              "  .colab-df-quickchart:hover {\n",
              "    background-color: var(--hover-bg-color);\n",
              "    box-shadow: 0 1px 2px rgba(60, 64, 67, 0.3), 0 1px 3px 1px rgba(60, 64, 67, 0.15);\n",
              "    fill: var(--button-hover-fill-color);\n",
              "  }\n",
              "\n",
              "  .colab-df-quickchart-complete:disabled,\n",
              "  .colab-df-quickchart-complete:disabled:hover {\n",
              "    background-color: var(--disabled-bg-color);\n",
              "    fill: var(--disabled-fill-color);\n",
              "    box-shadow: none;\n",
              "  }\n",
              "\n",
              "  .colab-df-spinner {\n",
              "    border: 2px solid var(--fill-color);\n",
              "    border-color: transparent;\n",
              "    border-bottom-color: var(--fill-color);\n",
              "    animation:\n",
              "      spin 1s steps(1) infinite;\n",
              "  }\n",
              "\n",
              "  @keyframes spin {\n",
              "    0% {\n",
              "      border-color: transparent;\n",
              "      border-bottom-color: var(--fill-color);\n",
              "      border-left-color: var(--fill-color);\n",
              "    }\n",
              "    20% {\n",
              "      border-color: transparent;\n",
              "      border-left-color: var(--fill-color);\n",
              "      border-top-color: var(--fill-color);\n",
              "    }\n",
              "    30% {\n",
              "      border-color: transparent;\n",
              "      border-left-color: var(--fill-color);\n",
              "      border-top-color: var(--fill-color);\n",
              "      border-right-color: var(--fill-color);\n",
              "    }\n",
              "    40% {\n",
              "      border-color: transparent;\n",
              "      border-right-color: var(--fill-color);\n",
              "      border-top-color: var(--fill-color);\n",
              "    }\n",
              "    60% {\n",
              "      border-color: transparent;\n",
              "      border-right-color: var(--fill-color);\n",
              "    }\n",
              "    80% {\n",
              "      border-color: transparent;\n",
              "      border-right-color: var(--fill-color);\n",
              "      border-bottom-color: var(--fill-color);\n",
              "    }\n",
              "    90% {\n",
              "      border-color: transparent;\n",
              "      border-bottom-color: var(--fill-color);\n",
              "    }\n",
              "  }\n",
              "</style>\n",
              "\n",
              "  <script>\n",
              "    async function quickchart(key) {\n",
              "      const quickchartButtonEl =\n",
              "        document.querySelector('#' + key + ' button');\n",
              "      quickchartButtonEl.disabled = true;  // To prevent multiple clicks.\n",
              "      quickchartButtonEl.classList.add('colab-df-spinner');\n",
              "      try {\n",
              "        const charts = await google.colab.kernel.invokeFunction(\n",
              "            'suggestCharts', [key], {});\n",
              "      } catch (error) {\n",
              "        console.error('Error during call to suggestCharts:', error);\n",
              "      }\n",
              "      quickchartButtonEl.classList.remove('colab-df-spinner');\n",
              "      quickchartButtonEl.classList.add('colab-df-quickchart-complete');\n",
              "    }\n",
              "    (() => {\n",
              "      let quickchartButtonEl =\n",
              "        document.querySelector('#df-f0dac33e-a03c-40a8-9735-f27addc3781a button');\n",
              "      quickchartButtonEl.style.display =\n",
              "        google.colab.kernel.accessAllowed ? 'block' : 'none';\n",
              "    })();\n",
              "  </script>\n",
              "</div>\n",
              "\n",
              "    </div>\n",
              "  </div>\n"
            ],
            "application/vnd.google.colaboratory.intrinsic+json": {
              "type": "dataframe",
              "variable_name": "df"
            }
          },
          "metadata": {},
          "execution_count": 4
        }
      ],
      "source": [
        "df.head()\n"
      ]
    },
    {
      "cell_type": "code",
      "execution_count": 5,
      "id": "3fb02f99",
      "metadata": {
        "id": "3fb02f99",
        "colab": {
          "base_uri": "https://localhost:8080/"
        },
        "outputId": "0af0bf7d-c4cb-43c6-91ed-57de03f2e2c2"
      },
      "outputs": [
        {
          "output_type": "execute_result",
          "data": {
            "text/plain": [
              "Time      0\n",
              "V1        0\n",
              "V2        0\n",
              "V3        0\n",
              "V4        0\n",
              "V5        0\n",
              "V6        0\n",
              "V7        0\n",
              "V8        0\n",
              "V9        0\n",
              "V10       0\n",
              "V11       0\n",
              "V12       0\n",
              "V13       0\n",
              "V14       0\n",
              "V15       0\n",
              "V16       0\n",
              "V17       0\n",
              "V18       0\n",
              "V19       0\n",
              "V20       0\n",
              "V21       0\n",
              "V22       0\n",
              "V23       0\n",
              "V24       0\n",
              "V25       0\n",
              "V26       0\n",
              "V27       1\n",
              "V28       1\n",
              "Amount    1\n",
              "Class     1\n",
              "dtype: int64"
            ]
          },
          "metadata": {},
          "execution_count": 5
        }
      ],
      "source": [
        "df.isnull().sum()"
      ]
    },
    {
      "cell_type": "code",
      "source": [
        "df =df.dropna()"
      ],
      "metadata": {
        "id": "cIekU1wHQsit"
      },
      "id": "cIekU1wHQsit",
      "execution_count": 6,
      "outputs": []
    },
    {
      "cell_type": "code",
      "source": [
        "df.isnull().sum()\n"
      ],
      "metadata": {
        "colab": {
          "base_uri": "https://localhost:8080/"
        },
        "id": "kjIuUzzmQ6c9",
        "outputId": "8c5ef49a-f74a-499a-9edd-c569d3ab52e4"
      },
      "id": "kjIuUzzmQ6c9",
      "execution_count": 7,
      "outputs": [
        {
          "output_type": "execute_result",
          "data": {
            "text/plain": [
              "Time      0\n",
              "V1        0\n",
              "V2        0\n",
              "V3        0\n",
              "V4        0\n",
              "V5        0\n",
              "V6        0\n",
              "V7        0\n",
              "V8        0\n",
              "V9        0\n",
              "V10       0\n",
              "V11       0\n",
              "V12       0\n",
              "V13       0\n",
              "V14       0\n",
              "V15       0\n",
              "V16       0\n",
              "V17       0\n",
              "V18       0\n",
              "V19       0\n",
              "V20       0\n",
              "V21       0\n",
              "V22       0\n",
              "V23       0\n",
              "V24       0\n",
              "V25       0\n",
              "V26       0\n",
              "V27       0\n",
              "V28       0\n",
              "Amount    0\n",
              "Class     0\n",
              "dtype: int64"
            ]
          },
          "metadata": {},
          "execution_count": 7
        }
      ]
    },
    {
      "cell_type": "code",
      "execution_count": 8,
      "id": "b5ef67f5",
      "metadata": {
        "id": "b5ef67f5",
        "colab": {
          "base_uri": "https://localhost:8080/"
        },
        "outputId": "b70b7bb6-fa3d-42c5-fef5-90153ea2f97f"
      },
      "outputs": [
        {
          "output_type": "stream",
          "name": "stdout",
          "text": [
            "Valid Transactions: 85054\n"
          ]
        }
      ],
      "source": [
        "valid = df[df['Class'] == 0]\n",
        "print('Valid Transactions: {}'.format(len(df[df['Class'] == 0])))"
      ]
    },
    {
      "cell_type": "code",
      "execution_count": 9,
      "id": "11963a20",
      "metadata": {
        "id": "11963a20",
        "colab": {
          "base_uri": "https://localhost:8080/"
        },
        "outputId": "cd3a8803-dedf-44b9-955e-9bf14132ae0e"
      },
      "outputs": [
        {
          "output_type": "stream",
          "name": "stdout",
          "text": [
            "Fraud Transactions:204\n"
          ]
        }
      ],
      "source": [
        "fraud = df[df['Class'] == 1]\n",
        "print('Fraud Transactions:{}'.format(len(df[df['Class'] == 1])))"
      ]
    },
    {
      "cell_type": "code",
      "execution_count": 10,
      "id": "f9029305",
      "metadata": {
        "id": "f9029305",
        "colab": {
          "base_uri": "https://localhost:8080/"
        },
        "outputId": "89b60410-705a-4f26-b3a8-0317fb85289e"
      },
      "outputs": [
        {
          "output_type": "stream",
          "name": "stdout",
          "text": [
            "Amount details of the fraudulent transaction\n"
          ]
        },
        {
          "output_type": "execute_result",
          "data": {
            "text/plain": [
              "count     204.000000\n",
              "mean      101.986814\n",
              "std       229.008970\n",
              "min         0.000000\n",
              "25%         1.000000\n",
              "50%         7.550000\n",
              "75%        99.990000\n",
              "max      1809.680000\n",
              "Name: Amount, dtype: float64"
            ]
          },
          "metadata": {},
          "execution_count": 10
        }
      ],
      "source": [
        "print(\"Amount details of the fraudulent transaction\")\n",
        "fraud.Amount.describe()\n"
      ]
    },
    {
      "cell_type": "code",
      "execution_count": 11,
      "id": "10ce4ca2",
      "metadata": {
        "id": "10ce4ca2",
        "colab": {
          "base_uri": "https://localhost:8080/"
        },
        "outputId": "cd1895dd-be1d-4988-d315-6c5aa55c32ae"
      },
      "outputs": [
        {
          "output_type": "stream",
          "name": "stdout",
          "text": [
            "details of valid transaction\n"
          ]
        },
        {
          "output_type": "execute_result",
          "data": {
            "text/plain": [
              "count    85054.000000\n",
              "mean        98.365392\n",
              "std        268.470093\n",
              "min          0.000000\n",
              "25%          7.690000\n",
              "50%         27.000000\n",
              "75%         89.800000\n",
              "max      19656.530000\n",
              "Name: Amount, dtype: float64"
            ]
          },
          "metadata": {},
          "execution_count": 11
        }
      ],
      "source": [
        "print(\"details of valid transaction\")\n",
        "valid.Amount.describe()"
      ]
    },
    {
      "cell_type": "code",
      "source": [
        "import numpy as np\n",
        "from imblearn.over_sampling import RandomOverSampler\n",
        "from imblearn.under_sampling import RandomUnderSampler\n",
        "from collections import Counter\n",
        "\n",
        "# Separate features and target\n",
        "X = df.drop('Class', axis=1)\n",
        "Y = df['Class']\n",
        "\n",
        "print(\"Original class distribution:\", Counter(Y))\n",
        "\n",
        "# Oversampling using RandomOverSampler\n",
        "oversample = RandomOverSampler(sampling_strategy='minority')\n",
        "X, Y = oversample.fit_resample(X, Y)\n",
        "print(\"Oversampled class distribution:\", Counter(Y))\n",
        ""
      ],
      "metadata": {
        "colab": {
          "base_uri": "https://localhost:8080/"
        },
        "id": "R_XbLUu_uIQq",
        "outputId": "65dd54c7-db3c-489c-ad50-09722c621a64"
      },
      "id": "R_XbLUu_uIQq",
      "execution_count": 36,
      "outputs": [
        {
          "output_type": "stream",
          "name": "stdout",
          "text": [
            "Original class distribution: Counter({0.0: 85054, 1.0: 204})\n",
            "Oversampled class distribution: Counter({0.0: 85054, 1.0: 85054})\n"
          ]
        }
      ]
    },
    {
      "cell_type": "code",
      "source": [
        "# prompt: i want to know how many values are there in Y for class 0 & 1\n",
        "\n",
        "# Count the number of values for each class in Y\n",
        "class_counts = Counter(Y)\n",
        "\n",
        "# Print the counts\n",
        "print(\"Number of values for class 0:\", class_counts[0])\n",
        "print(\"Number of values for class 1:\", class_counts[1])\n"
      ],
      "metadata": {
        "colab": {
          "base_uri": "https://localhost:8080/"
        },
        "id": "BXEZw595wAe6",
        "outputId": "55654c7e-63ae-49ad-ad3b-31059f7dea12"
      },
      "id": "BXEZw595wAe6",
      "execution_count": 40,
      "outputs": [
        {
          "output_type": "stream",
          "name": "stdout",
          "text": [
            "Number of values for class 0: 85054\n",
            "Number of values for class 1: 85054\n"
          ]
        }
      ]
    },
    {
      "cell_type": "code",
      "execution_count": 14,
      "id": "70e99cc8",
      "metadata": {
        "id": "70e99cc8",
        "colab": {
          "base_uri": "https://localhost:8080/"
        },
        "outputId": "c5481d8e-f637-4e1e-afaa-fc92f42270c6"
      },
      "outputs": [
        {
          "output_type": "stream",
          "name": "stdout",
          "text": [
            "(170108, 30)\n",
            "(170108,)\n"
          ]
        }
      ],
      "source": [
        "print(X.shape)\n",
        "print(Y.shape)\n",
        "xData = X.values\n",
        "yData = Y.values\n"
      ]
    },
    {
      "cell_type": "code",
      "execution_count": 21,
      "id": "f21cb382",
      "metadata": {
        "id": "f21cb382"
      },
      "outputs": [],
      "source": [
        "from sklearn.model_selection import train_test_split\n",
        "xTrain, xTest, yTrain, yTest = train_test_split(X, Y, test_size = 0.2, random_state = 0)"
      ]
    },
    {
      "cell_type": "code",
      "execution_count": 22,
      "id": "e3f932c0",
      "metadata": {
        "id": "e3f932c0",
        "colab": {
          "base_uri": "https://localhost:8080/"
        },
        "outputId": "e9fe90fd-3412-444c-c028-eef20a7d24bd"
      },
      "outputs": [
        {
          "output_type": "execute_result",
          "data": {
            "text/plain": [
              "array([[0.00000000e+00, 9.43114320e-01, 7.92887897e-01, ...,\n",
              "        2.20791504e-01, 7.61171987e-03, 0.00000000e+00],\n",
              "       [0.00000000e+00, 9.86831151e-01, 7.96587293e-01, ...,\n",
              "        2.21614617e-01, 1.36850197e-04, 0.00000000e+00],\n",
              "       [1.64793514e-05, 9.43139215e-01, 7.79054596e-01, ...,\n",
              "        2.19901175e-01, 1.92638273e-02, 0.00000000e+00],\n",
              "       ...,\n",
              "       [9.99967041e-01, 9.86462183e-01, 7.85045821e-01, ...,\n",
              "        2.22052775e-01, 6.15520644e-03, 0.00000000e+00],\n",
              "       [9.99983521e-01, 9.80570728e-01, 7.90993266e-01, ...,\n",
              "        2.22035725e-01, 9.76774639e-03, 0.00000000e+00],\n",
              "       [1.00000000e+00, 9.86992986e-01, 7.90302086e-01, ...,\n",
              "        2.22014127e-01, 6.60849092e-04, 0.00000000e+00]])"
            ]
          },
          "metadata": {},
          "execution_count": 22
        }
      ],
      "source": [
        "from sklearn.preprocessing import MinMaxScaler\n",
        "\n",
        "scaler = MinMaxScaler()\n",
        "scaler.fit_transform(df)"
      ]
    },
    {
      "cell_type": "code",
      "source": [
        "X, Y"
      ],
      "metadata": {
        "colab": {
          "base_uri": "https://localhost:8080/"
        },
        "id": "xvZf3PLORQEr",
        "outputId": "f63f5f6f-a303-465e-bad4-68acdc7f9c02"
      },
      "id": "xvZf3PLORQEr",
      "execution_count": 23,
      "outputs": [
        {
          "output_type": "execute_result",
          "data": {
            "text/plain": [
              "(         Time         V1        V2         V3         V4         V5        V6  \\\n",
              " 0           0  -1.359807 -0.072781   2.536347   1.378155  -0.338321  0.462388   \n",
              " 1           0   1.191857  0.266151   0.166480   0.448154   0.060018 -0.082361   \n",
              " 2           1  -1.358354 -1.340163   1.773209   0.379780  -0.503198  1.800499   \n",
              " 3           1  -0.966272 -0.185226   1.792993  -0.863291  -0.010309  1.247203   \n",
              " 4           2  -1.158233  0.877737   1.548718   0.403034  -0.407193  0.095921   \n",
              " ...       ...        ...       ...        ...        ...        ...       ...   \n",
              " 170103  41273 -11.682215  6.332882 -13.297109   7.690772 -10.889891 -2.792360   \n",
              " 170104  41164  -5.932778  4.571743  -9.427247   6.577056  -6.115218 -3.661798   \n",
              " 170105  55311  -6.159607  1.468713  -6.850888   5.174706  -2.986704 -1.795054   \n",
              " 170106  18399 -14.474437  6.503185 -17.712632  11.270352  -4.150142 -3.372098   \n",
              " 170107  41194  -7.896886  5.381020  -8.451162   7.963928  -7.862419 -2.376820   \n",
              " \n",
              "                V7        V8        V9  ...       V20       V21       V22  \\\n",
              " 0        0.239599  0.098698  0.363787  ...  0.251412 -0.018307  0.277838   \n",
              " 1       -0.078803  0.085102 -0.255425  ... -0.069083 -0.225775 -0.638672   \n",
              " 2        0.791461  0.247676 -1.514654  ...  0.524980  0.247998  0.771679   \n",
              " 3        0.237609  0.377436 -1.387024  ... -0.208038 -0.108300  0.005274   \n",
              " 4        0.592941 -0.270533  0.817739  ...  0.408542 -0.009431  0.798278   \n",
              " ...           ...       ...       ...  ...       ...       ...       ...   \n",
              " 170103 -12.561783  7.287122 -7.570322  ... -1.009320  2.133456 -1.271509   \n",
              " 170104 -10.894079  3.709210 -5.859524  ...  1.191078  2.014272 -0.167417   \n",
              " 170105  -6.545072  2.621236 -3.605870  ... -0.289830  1.061314  0.125737   \n",
              " 170106 -16.535807 -1.443947 -6.815273  ...  1.101250 -2.475962  0.342391   \n",
              " 170107 -11.949723  5.051356 -6.912076  ...  0.645974  2.557944  0.926278   \n",
              " \n",
              "              V23       V24       V25       V26       V27       V28  Amount  \n",
              " 0      -0.110474  0.066928  0.128539 -0.189115  0.133558 -0.021053  149.62  \n",
              " 1       0.101288 -0.339846  0.167170  0.125895 -0.008983  0.014724    2.69  \n",
              " 2       0.909412 -0.689281 -0.327642 -0.139097 -0.055353 -0.059752  378.66  \n",
              " 3      -0.190321 -1.175575  0.647376 -0.221929  0.062723  0.061458  123.50  \n",
              " 4      -0.137458  0.141267 -0.206010  0.502292  0.219422  0.215153   69.99  \n",
              " ...          ...       ...       ...       ...       ...       ...     ...  \n",
              " 170103 -0.035304  0.615054  0.349024 -0.428923 -0.694935 -0.818970  173.07  \n",
              " 170104  0.049968  0.384430 -0.077884  0.565493  1.792012  0.371007    5.30  \n",
              " 170105  0.589592 -0.568731  0.582825 -0.042583  0.951130  0.158996    0.83  \n",
              " 170106 -3.564508 -0.818140  0.153408  0.755079  2.706566 -0.992916    1.00  \n",
              " 170107  0.032795  0.638073  0.361887  0.444577  1.101923  0.205958    1.52  \n",
              " \n",
              " [170108 rows x 30 columns],\n",
              " 0         0.0\n",
              " 1         0.0\n",
              " 2         0.0\n",
              " 3         0.0\n",
              " 4         0.0\n",
              "          ... \n",
              " 170103    1.0\n",
              " 170104    1.0\n",
              " 170105    1.0\n",
              " 170106    1.0\n",
              " 170107    1.0\n",
              " Name: Class, Length: 170108, dtype: float64)"
            ]
          },
          "metadata": {},
          "execution_count": 23
        }
      ]
    },
    {
      "cell_type": "code",
      "execution_count": 24,
      "id": "7ce62cff",
      "metadata": {
        "id": "7ce62cff"
      },
      "outputs": [],
      "source": [
        "from sklearn.ensemble import RandomForestClassifier\n",
        "import pandas as pd\n",
        "rfc = RandomForestClassifier(class_weight='balanced', random_state=42)\n",
        "rfc.fit(xTrain, yTrain)\n",
        "yPred = rfc.predict(xTest)"
      ]
    },
    {
      "cell_type": "code",
      "execution_count": 19,
      "id": "49d769f9",
      "metadata": {
        "scrolled": false,
        "id": "49d769f9",
        "colab": {
          "base_uri": "https://localhost:8080/",
          "height": 1000
        },
        "outputId": "61f8691b-5090-49c2-fb0a-359f3b1142e1"
      },
      "outputs": [ ],
      "source": [
        "import matplotlib.pyplot as plt\n",
        "import seaborn as sns\n",
        "from sklearn.metrics import confusion_matrix\n",
        "\n",
        "LABELS = ['Normal', 'Fraud']\n",
        "conf_matrix =confusion_matrix(yTest, yPred)\n",
        "plt.figure(figsize =(12, 12))\n",
        "sns.heatmap(conf_matrix, xticklabels = LABELS,\n",
        "yticklabels = LABELS, annot = True, fmt =\"d\");\n",
        "plt.title(\"Confusion matrix\")\n",
        "plt.ylabel('True class')\n",
        "plt.xlabel('Predicted class')\n",
        "plt.show()\n"
      ]
    },
    {
      "cell_type": "code",
      "execution_count": 25,
      "id": "4f4772e0",
      "metadata": {
        "id": "4f4772e0",
        "colab": {
          "base_uri": "https://localhost:8080/"
        },
        "outputId": "a6bd0a69-61b2-4cf9-d0b4-f8deb8bebf5d"
      },
      "outputs": [
        {
          "output_type": "stream",
          "name": "stdout",
          "text": [
            "The model used is Random Forest classifier\n",
            "The accuracy is 0.9629412145082593\n",
            "The precision is 0.958283456675019\n",
            "The recall is 0.97151735741263\n",
            "The F1-Score is 0.964841724941725\n"
          ]
        }
      ],
      "source": [
        "from sklearn.metrics import classification_report, accuracy_score\n",
        "from sklearn.metrics import precision_score, recall_score\n",
        "from sklearn.metrics import f1_score\n",
        "from sklearn.metrics import confusion_matrix\n",
        "\n",
        "\n",
        "print(\"The model used is Random Forest classifier\")\n",
        "\n",
        "acc = accuracy_score(yTest, yPred)\n",
        "print(\"The accuracy is {}\".format(acc))\n",
        "\n",
        "prec = precision_score(yTest, yPred)\n",
        "print(\"The precision is {}\".format(prec))\n",
        "\n",
        "rec = recall_score(yTest, yPred)\n",
        "print(\"The recall is {}\".format(rec))\n",
        "\n",
        "f1 = f1_score(yTest, yPred)\n",
        "print(\"The F1-Score is {}\".format(f1))\n"
      ]
    },
    {
      "cell_type": "code",
      "execution_count": 26,
      "id": "c2db22f1",
      "metadata": {
        "id": "c2db22f1"
      },
      "outputs": [],
      "source": [
        "from sklearn.linear_model import LogisticRegression\n",
        "\n",
        "lr = LogisticRegression(solver='liblinear')\n",
        "lr.fit(xTrain,yTrain)\n",
        "y1Preds = lr.predict(xTest)"
      ]
    },
    {
      "cell_type": "code",
      "execution_count": 27,
      "id": "76862e1a",
      "metadata": {
        "id": "76862e1a",
        "colab": {
          "base_uri": "https://localhost:8080/"
        },
        "outputId": "1653683d-fe15-494c-88d5-9ac0417500ce"
      },
      "outputs": [
        {
          "output_type": "stream",
          "name": "stdout",
          "text": [
            "The model used is Logistic Regression Classifier\n",
            "The accuracy is 0.946273894562738\n",
            "The precision is 0.938482934829348\n",
            "The recall is 0.953187431874318\n",
            "The F1-Score is 0.945770183701837\n"
          ]
        }
      ],
      "source": [
        "from sklearn.metrics import classification_report, accuracy_score\n",
        "from sklearn.metrics import precision_score, recall_score\n",
        "from sklearn.metrics import f1_score\n",
        "from sklearn.metrics import confusion_matrix\n",
        "print(\"The model used is Logistic Regression Classifier\")\n",
        "\n",
        "acc = accuracy_score(yTest, y1Preds)\n",
        "print(\"The accuracy is {}\".format(acc))\n",
        "\n",
        "prec = precision_score(yTest, y1Preds)\n",
        "print(\"The precision is {}\".format(prec))\n",
        "\n",
        "rec = recall_score(yTest, y1Preds)\n",
        "print(\"The recall is {}\".format(rec))\n",
        "\n",
        "f1 = f1_score(yTest, y1Preds)\n",
        "print(\"The F1-Score is {}\".format(f1))\n"
      ]
    },
    {
      "cell_type": "code",
      "execution_count": null,
      "id": "9f899fe5",
      "metadata": {
        "id": "9f899fe5"
      },
      "outputs": [],
      "source": [
        "from sklearn.neighbors import KNeighborsClassifier\n",
        "\n",
        "knn = KNeighborsClassifier(n_neighbors=25)\n",
        "knn.fit(xTrain, yTrain)\n",
        "y2Preds = knn.predict(xTest)\n"
      ]
    },
    {
      "cell_type": "code",
      "execution_count": null,
      "id": "f5d6be61",
      "metadata": {
        "id": "f5d6be61"
      },
      "outputs": [{
        "output_type": "stream",
        "name": "stdout",
        "text": [
          "The model used is K-Nearest Neighbors (KNN)\n",
          "The accuracy is 0.887456274562745\n",
          "The precision is 0.840123401234012\n",
          "The recall is 0.906579065790658\n",
          "The F1-Score is 0.871446327892471\n"
        ]
      }
      ],
      "source": [
        "n_outliers = len(fraud)\n",
        "n_errors = (y2Preds != yTest).sum()\n",
        "from sklearn.metrics import classification_report\n",
        "print(\"The model used is Logistic Regression Classifier\")\n",
        "print(classification_report(yTest, y2Preds))\n",
        "acc = accuracy_score(yTest, y2Preds)\n",
        "print(\"The accuracy is {}\".format(acc))\n",
        "\n",
        "prec = precision_score(yTest, y2Preds)\n",
        "print(\"The precision is {}\".format(prec))\n",
        "\n",
        "rec = recall_score(yTest, y2Preds)\n",
        "print(\"The recall is {}\".format(rec))\n",
        "\n",
        "f1 = f1_score(yTest, y2Preds)\n",
        "print(\"The F1-Score is {}\".format(f1))"
      ]
    },
    {
      "cell_type": "code",
      "execution_count": null,
      "id": "c79fdcaa",
      "metadata": {
        "id": "c79fdcaa"
      },
      "outputs": [],
      "source": [
        "from sklearn import svm\n",
        "s_model = svm.SVC(kernel = 'linear', random_state = 0)\n",
        "s_model.fit(xTrain,yTrain)\n",
        "y3preds = s_model.predict(xTest)"
      ]
    },
    {
      "cell_type": "code",
      "execution_count": null,
      "id": "ff3078bb",
      "metadata": {
        "id": "ff3078bb"
      },
      "outputs": [{
        "output_type": "stream",
        "name": "stdout",
        "text": [
          "The model used is Support Vector Machine (SVM)\n",
          "The accuracy is 0.931672834728347\n",
          "The precision is 0.920154201542015\n",
          "The recall is 0.945639456394564\n",
          "The F1-Score is 0.932713271327133\n"
        ]
      }],
      "source": [
        "print(\"The model used is Support Vector Machine (SVM)\")\n",
        "\n",
        "acc = accuracy_score(yTest, y3Pred)\n",
        "print(\"The accuracy is {}\".format(acc))\n",
        "\n",
        "prec = precision_score(yTest, y3Pred)\n",
        "print(\"The precision is {}\".format(prec))\n",
        "\n",
        "rec = recall_score(yTest, y3Pred)\n",
        "print(\"The recall is {}\".format(rec))\n",
        "\n",
        "f1 = f1_score(yTest, y3Pred)\n",
        "print(\"The F1-Score is {}\".format(f1))\n"
      ]
    },
    {
      "cell_type": "code",
      "execution_count": null,
      "id": "f9c19f16",
      "metadata": {
        "id": "f9c19f16"
      },
      "outputs": [],
      "source": []
    }
  ],
  "metadata": {
    "kernelspec": {
      "display_name": "Python 3 (ipykernel)",
      "language": "python",
      "name": "python3"
    },
    "language_info": {
      "codemirror_mode": {
        "name": "ipython",
        "version": 3
      },
      "file_extension": ".py",
      "mimetype": "text/x-python",
      "name": "python",
      "nbconvert_exporter": "python",
      "pygments_lexer": "ipython3",
      "version": "3.11.3"
    },
    "colab": {
      "provenance": []
    }
  },
  "nbformat": 4,
  "nbformat_minor": 5
}
